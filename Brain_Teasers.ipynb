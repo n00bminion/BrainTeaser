{
  "nbformat": 4,
  "nbformat_minor": 0,
  "metadata": {
    "colab": {
      "provenance": [],
      "collapsed_sections": [
        "3Vl_GalGonhO",
        "biRK-angpFPl"
      ],
      "authorship_tag": "ABX9TyONkZtZDvA3F7KeVheTdbI0",
      "include_colab_link": true
    },
    "kernelspec": {
      "name": "python3",
      "display_name": "Python 3"
    },
    "language_info": {
      "name": "python"
    }
  },
  "cells": [
    {
      "cell_type": "markdown",
      "metadata": {
        "id": "view-in-github",
        "colab_type": "text"
      },
      "source": [
        "<a href=\"https://colab.research.google.com/github/n00bminion/BrainTeaser/blob/main/Brain_Teasers.ipynb\" target=\"_parent\"><img src=\"https://colab.research.google.com/assets/colab-badge.svg\" alt=\"Open In Colab\"/></a>"
      ]
    },
    {
      "cell_type": "markdown",
      "metadata": {
        "id": "3Vl_GalGonhO"
      },
      "source": [
        "### **Fibonacci Sequence**\n"
      ]
    },
    {
      "cell_type": "code",
      "metadata": {
        "id": "zqWfisda-Vto"
      },
      "source": [
        "def fibonacci(i):\n",
        "    '''\n",
        "    takes the paramter \"i\" as an position parameter and return\n",
        "    the fibonacci sequence below and up to position i.\n",
        "    e.g: i = 3 will return list = [0,1,1]\n",
        "\n",
        "    example: fibonacci(12)\n",
        "\n",
        "    param: i << int >>\n",
        "    '''\n",
        "    fib = [0,1]\n",
        "\n",
        "    if 0 < i <= 2 and isinstance(i,int):\n",
        "        return fib[:i]\n",
        "    elif i > 2 and isinstance(i,int):\n",
        "        for _ in range(3,i+1):\n",
        "            fib.append(fib[-2] + fib[-1])\n",
        "    else:\n",
        "        raise Exception\n",
        "    return ['{:,}'.format(f) for f in fib]"
      ],
      "execution_count": null,
      "outputs": []
    },
    {
      "cell_type": "markdown",
      "metadata": {
        "id": "biRK-angpFPl"
      },
      "source": [
        "### **Sudoko Solver**\n"
      ]
    },
    {
      "cell_type": "code",
      "metadata": {
        "id": "GErWzzAF-M0B",
        "colab": {
          "base_uri": "https://localhost:8080/"
        },
        "outputId": "b555f634-44ea-4e5c-c6d9-6b866e5bb274"
      },
      "source": [
        "def solveSudoku(board):\n",
        "    '''\n",
        "    takes a sudoku board made of list of lists\n",
        "    and returns a solved board\n",
        "\n",
        "    example:\n",
        "    solveSudoku([\n",
        "        [0, 0, 8, 0, 6, 0, 0, 0, 0],\n",
        "        [9, 2, 6, 0, 4, 3, 5, 0, 0],\n",
        "        [4, 5, 0, 0, 0, 8, 6, 0, 0],\n",
        "        [5, 0, 0, 8, 3, 0, 0, 0, 1],\n",
        "        [0, 0, 0, 2, 0, 6, 0, 0, 0],\n",
        "        [3, 0, 0, 0, 5, 7, 0, 0, 6],\n",
        "        [0, 0, 7, 5, 0, 0, 0, 1, 3],\n",
        "        [0, 0, 3, 6, 7, 0, 8, 5, 2],\n",
        "        [0, 0, 0, 0, 9, 0, 4, 0, 0]\n",
        "        ])\n",
        "\n",
        "    param: board << list >>\n",
        "    '''\n",
        "    assert set([len(row) for row in board]) == set([len(row) for row in board])\n",
        "\n",
        "    def showBoard():\n",
        "        for row in board:\n",
        "            print(row)\n",
        "\n",
        "    def findFirstEmptyCell():\n",
        "        ecc = len([cell for row in board for cell in row if cell == 0])\n",
        "        if ecc > 0:\n",
        "            for y,row in enumerate(board):\n",
        "                for x, cell in enumerate(row):\n",
        "                    if not bool(cell):\n",
        "                        return  (y,x)\n",
        "                    else:\n",
        "                        continue\n",
        "        else:\n",
        "            return(None,None)\n",
        "\n",
        "    def valueInSmallSquareGrid(val,y,x):\n",
        "        cell = (val,y//3,x//3)\n",
        "        if cell in [cell for row in [[(board[y][x],y//3,x//3) for x in range(0,len(board))] for y in range(0,len(board))] for cell in row]:\n",
        "            return True\n",
        "        else:\n",
        "            return False\n",
        "\n",
        "    def solve():\n",
        "        y, x = findFirstEmptyCell()\n",
        "        ## try number from 1 to 9 for the first empty cell at position y, x\n",
        "        if (x,y) != (None,None):\n",
        "            for i in (range(1,10)):\n",
        "                if ( i not in board[y] ) and ( i not in [i[x] for i in board] ) and (not valueInSmallSquareGrid(i,y,x)):\n",
        "                    board[y][x] = i\n",
        "                    solve()\n",
        "                else:\n",
        "                    board[y][x] = 0\n",
        "            board[y][x] = 0\n",
        "        else:\n",
        "            showBoard()\n",
        "            return\n",
        "\n",
        "    return solve()\n",
        "\n",
        "solveSudoku([\n",
        "        [0, 0, 8, 0, 6, 0, 0, 0, 0],\n",
        "        [9, 2, 6, 0, 4, 3, 5, 0, 0],\n",
        "        [4, 5, 0, 0, 0, 8, 6, 0, 0],\n",
        "        [5, 0, 0, 8, 3, 0, 0, 0, 1],\n",
        "        [0, 0, 0, 2, 0, 6, 0, 0, 0],\n",
        "        [3, 0, 0, 0, 5, 7, 0, 0, 6],\n",
        "        [0, 0, 7, 5, 0, 0, 0, 1, 3],\n",
        "        [0, 0, 3, 6, 7, 0, 8, 5, 2],\n",
        "        [0, 0, 0, 0, 9, 0, 4, 0, 0]\n",
        "        ])"
      ],
      "execution_count": null,
      "outputs": [
        {
          "output_type": "stream",
          "name": "stdout",
          "text": [
            "[7, 3, 8, 9, 6, 5, 1, 2, 4]\n",
            "[9, 2, 6, 1, 4, 3, 5, 7, 8]\n",
            "[4, 5, 1, 7, 2, 8, 6, 3, 9]\n",
            "[5, 6, 2, 8, 3, 9, 7, 4, 1]\n",
            "[8, 7, 4, 2, 1, 6, 3, 9, 5]\n",
            "[3, 1, 9, 4, 5, 7, 2, 8, 6]\n",
            "[6, 4, 7, 5, 8, 2, 9, 1, 3]\n",
            "[1, 9, 3, 6, 7, 4, 8, 5, 2]\n",
            "[2, 8, 5, 3, 9, 1, 4, 6, 7]\n"
          ]
        }
      ]
    },
    {
      "cell_type": "markdown",
      "metadata": {
        "id": "pGCQnALMrFJ4"
      },
      "source": [
        "### **Other**\n"
      ]
    },
    {
      "cell_type": "code",
      "metadata": {
        "id": "gc_C4NELobuX"
      },
      "source": [
        "class Node:\n",
        "    def __init__(self,value):\n",
        "        self.value = value\n",
        "        self.next = None\n",
        "        self.previous = None\n",
        "\n",
        "class DoublyLinkedList:\n",
        "    def __init__(self):\n",
        "        self.head = None\n",
        "        self.tail = None\n",
        "\n",
        "    def to_list(self):\n",
        "        return\n",
        "\n",
        "    def append(self,value):\n",
        "        \"\"\" Append a value to the end of the list. \"\"\"\n",
        "        return\n",
        "\n",
        "    def prepend(self,value):\n",
        "        \"\"\" Prepend a value to the beginning of the list. \"\"\"\n",
        "        return\n",
        "\n",
        "    def remove(self,value):\n",
        "        \"\"\" Remove first occurrence of value. \"\"\"\n",
        "        return\n",
        "\n",
        "    def search(self,value):\n",
        "        \"\"\" Search the linked list for a node with the requested value and return the node. \"\"\"\n",
        "        return\n",
        "\n",
        "    def pop(self):\n",
        "        \"\"\" Return the first node's value and remove it from the list. \"\"\"\n",
        "        return\n",
        "\n",
        "    def insert(self, value, pos):\n",
        "        \"\"\" Insert value at pos position in the list. If pos is larger than the\n",
        "        length of the list, append to the end of the list. \"\"\"\n",
        "        return\n",
        "\n",
        "    def size(self):\n",
        "        \"\"\" Return the size or length of the linked list. \"\"\"\n",
        "        return"
      ],
      "execution_count": null,
      "outputs": []
    },
    {
      "cell_type": "code",
      "source": [
        "#test"
      ],
      "metadata": {
        "id": "_PC0_WxuOnXi"
      },
      "execution_count": null,
      "outputs": []
    }
  ]
}